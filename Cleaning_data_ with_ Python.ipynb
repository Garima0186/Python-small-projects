{
  "metadata": {
    "language_info": {
      "codemirror_mode": {
        "name": "python",
        "version": 3
      },
      "file_extension": ".py",
      "mimetype": "text/x-python",
      "name": "python",
      "nbconvert_exporter": "python",
      "pygments_lexer": "ipython3",
      "version": "3.8"
    },
    "kernelspec": {
      "name": "python",
      "display_name": "Python (Pyodide)",
      "language": "python"
    }
  },
  "nbformat_minor": 4,
  "nbformat": 4,
  "cells": [
    {
      "cell_type": "markdown",
      "source": "### Cleaning Data with Python\n\n- Your local university's Raptors fan club maintains a register of its active members on a .txt document. Every month they update the file by removing the members who are not active. You have been tasked with automating this with your Python skills.\n- Given the file currentMem, Remove each member with a 'no' in their Active column. Keep track of each of the removed members and append them to the exMem file. Make sure that the format of the original files in preserved.",
      "metadata": {}
    },
    {
      "cell_type": "code",
      "source": "#Run this prior to starting the exercise\nfrom random import randint as rnd\n\nmemReg = 'members.txt'\nexReg = 'inactive.txt'\nfee =('yes','no')\n\ndef genFiles(current,old):\n    with open(current,'w+') as writefile: \n        writefile.write('Membership No  Date Joined  Active  \\n')\n        data = \"{:^13}  {:<11}  {:<6}\\n\"\n\n        for rowno in range(20):\n            date = str(rnd(2015,2020))+ '-' + str(rnd(1,12))+'-'+str(rnd(1,25))\n            writefile.write(data.format(rnd(10000,99999),date,fee[rnd(0,1)]))\n\n\n    with open(old,'w+') as writefile: \n        writefile.write('Membership No  Date Joined  Active  \\n')\n        data = \"{:^13}  {:<11}  {:<6}\\n\"\n        for rowno in range(3):\n            date = str(rnd(2015,2020))+ '-' + str(rnd(1,12))+'-'+str(rnd(1,25))\n            writefile.write(data.format(rnd(10000,99999),date,fee[1]))\n\n\ngenFiles(memReg,exReg)",
      "metadata": {
        "trusted": true
      },
      "execution_count": 1,
      "outputs": []
    },
    {
      "cell_type": "code",
      "source": "with open(memReg,'r+') as currentMem:\n    print(currentMem.read())\nwith open(exReg,'a+') as exMem:\n    print(exMem.read())",
      "metadata": {
        "trusted": true
      },
      "execution_count": 4,
      "outputs": [
        {
          "name": "stdout",
          "text": "Membership No  Date Joined  Active  \n    43508      2016-7-22    yes   \n    97698      2017-6-4     yes   \n    87957      2016-10-8    no    \n    97672      2018-11-6    no    \n    91711      2019-4-9     no    \n    81608      2017-12-4    yes   \n    31504      2016-1-11    no    \n    86802      2017-5-2     yes   \n    62613      2016-9-10    yes   \n    84903      2015-9-19    no    \n    85784      2016-3-21    no    \n    14662      2019-4-24    no    \n    16097      2020-3-23    yes   \n    15383      2019-11-17   no    \n    64785      2019-7-14    yes   \n    47804      2020-4-4     no    \n    81753      2015-8-3     yes   \n    73175      2019-7-3     yes   \n    43271      2017-7-25    no    \n    14162      2019-3-11    no    \n\n\n",
          "output_type": "stream"
        }
      ]
    },
    {
      "cell_type": "code",
      "source": "with open(memReg,'r+') as currentMem:\n    print(currentMem.read())\n    with open(exReg,'a+') as exMem:\n        print(exMem.read())\n    \n    \ndef cleanFiles(currentMem,exMem):\n    with open(currentMem ,'r+') as writeFile:\n        with open(exMem,'a+') as appendFile:\n            writeFile.seek(0)\n            members=writeFile.readlines()\n            \n            header=members[0]\n            members.pop(0)\n            \n            inactive=[member for member in members if('no' in member)]\n                                                      \n            writeFile.seek(0)\n            writeFile.write(header)\n            for member in members:\n                if(member in inactive):\n                  appendFile.write(member)                                      \n                else:\n                  writeFile.write(member)\n                                                      \nmemReg ='members.txt'\nexReg='inactive.txt'  \ncleanFiles(memReg,exReg)    \n                                                      \nheaders = \"Membership No  Date Joined  Active  \\n\"\n\nwith open(memReg,'r') as readFile:\n    print(\"Active Members: \\n\\n\")\n    print(readFile.read())\n    \nwith open(exReg,'r') as readFile:\n    print(\"Inactive Members: \\n\\n\")\n    print(readFile.read())\n                                                         ",
      "metadata": {
        "trusted": true
      },
      "execution_count": 10,
      "outputs": [
        {
          "name": "stdout",
          "text": "Membership No  Date Joined  Active  \n    43508      2016-7-22    yes   \n    97698      2017-6-4     yes   \n    87957      2016-10-8    no    \n    97672      2018-11-6    no    \n    91711      2019-4-9     no    \n    81608      2017-12-4    yes   \n    31504      2016-1-11    no    \n    86802      2017-5-2     yes   \n    62613      2016-9-10    yes   \n    84903      2015-9-19    no    \n    85784      2016-3-21    no    \n    14662      2019-4-24    no    \n    16097      2020-3-23    yes   \n    15383      2019-11-17   no    \n    64785      2019-7-14    yes   \n    47804      2020-4-4     no    \n    81753      2015-8-3     yes   \n    73175      2019-7-3     yes   \n    43271      2017-7-25    no    \n    14162      2019-3-11    no    \n\n\nActive Members: \n\n\nMembership No  Date Joined  Active  \n    43508      2016-7-22    yes   \n    97698      2017-6-4     yes   \n    81608      2017-12-4    yes   \n    86802      2017-5-2     yes   \n    62613      2016-9-10    yes   \n    16097      2020-3-23    yes   \n    64785      2019-7-14    yes   \n    81753      2015-8-3     yes   \n    73175      2019-7-3     yes   \n    84903      2015-9-19    no    \n    85784      2016-3-21    no    \n    14662      2019-4-24    no    \n    16097      2020-3-23    yes   \n    15383      2019-11-17   no    \n    64785      2019-7-14    yes   \n    47804      2020-4-4     no    \n    81753      2015-8-3     yes   \n    73175      2019-7-3     yes   \n    43271      2017-7-25    no    \n    14162      2019-3-11    no    \n\nInactive Members: \n\n\nMembership No  Date Joined  Active  \n    77777      2017-5-2     no    \n    83995      2015-7-7     no    \n    66071      2018-6-21    no    \n    87957      2016-10-8    no    \n    97672      2018-11-6    no    \n    91711      2019-4-9     no    \n    31504      2016-1-11    no    \n    84903      2015-9-19    no    \n    85784      2016-3-21    no    \n    14662      2019-4-24    no    \n    15383      2019-11-17   no    \n    47804      2020-4-4     no    \n    43271      2017-7-25    no    \n    14162      2019-3-11    no    \n\n",
          "output_type": "stream"
        }
      ]
    },
    {
      "cell_type": "markdown",
      "source": "### Author\n\nGarima0186",
      "metadata": {}
    },
    {
      "cell_type": "code",
      "source": "",
      "metadata": {},
      "execution_count": null,
      "outputs": []
    }
  ]
}